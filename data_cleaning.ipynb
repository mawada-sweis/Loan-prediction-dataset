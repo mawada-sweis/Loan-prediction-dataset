{
 "cells": [
  {
   "cell_type": "markdown",
   "metadata": {},
   "source": [
    "# Necessary Libraries"
   ]
  },
  {
   "cell_type": "code",
   "execution_count": 150,
   "metadata": {},
   "outputs": [],
   "source": [
    "import pandas as pd\n",
    "from sklearn.preprocessing import LabelEncoder, OneHotEncoder\n",
    "import matplotlib.pyplot as plt\n",
    "import numpy as np\n",
    "from sklearn.model_selection import train_test_split\n",
    "from sklearn import linear_model\n",
    "from sklearn.metrics import mean_squared_error, r2_score, confusion_matrix, accuracy_score\n",
    "import seaborn as sns"
   ]
  },
  {
   "cell_type": "markdown",
   "metadata": {},
   "source": [
    "# Load Data"
   ]
  },
  {
   "cell_type": "code",
   "execution_count": 3,
   "metadata": {},
   "outputs": [],
   "source": [
    "# load the train data\n",
    "train_data = pd.read_csv(\"train_dataset.csv\")"
   ]
  },
  {
   "cell_type": "markdown",
   "metadata": {},
   "source": [
    "# Explore the data"
   ]
  },
  {
   "cell_type": "code",
   "execution_count": 4,
   "metadata": {},
   "outputs": [
    {
     "data": {
      "text/html": [
       "<div>\n",
       "<style scoped>\n",
       "    .dataframe tbody tr th:only-of-type {\n",
       "        vertical-align: middle;\n",
       "    }\n",
       "\n",
       "    .dataframe tbody tr th {\n",
       "        vertical-align: top;\n",
       "    }\n",
       "\n",
       "    .dataframe thead th {\n",
       "        text-align: right;\n",
       "    }\n",
       "</style>\n",
       "<table border=\"1\" class=\"dataframe\">\n",
       "  <thead>\n",
       "    <tr style=\"text-align: right;\">\n",
       "      <th></th>\n",
       "      <th>Loan_ID</th>\n",
       "      <th>Gender</th>\n",
       "      <th>Married</th>\n",
       "      <th>Dependents</th>\n",
       "      <th>Education</th>\n",
       "      <th>Self_Employed</th>\n",
       "      <th>ApplicantIncome</th>\n",
       "      <th>CoapplicantIncome</th>\n",
       "      <th>LoanAmount</th>\n",
       "      <th>Loan_Amount_Term</th>\n",
       "      <th>Credit_History</th>\n",
       "      <th>Property_Area</th>\n",
       "      <th>Loan_Status</th>\n",
       "    </tr>\n",
       "  </thead>\n",
       "  <tbody>\n",
       "    <tr>\n",
       "      <th>0</th>\n",
       "      <td>LP001002</td>\n",
       "      <td>Male</td>\n",
       "      <td>No</td>\n",
       "      <td>0</td>\n",
       "      <td>Graduate</td>\n",
       "      <td>No</td>\n",
       "      <td>5849</td>\n",
       "      <td>0.0</td>\n",
       "      <td>NaN</td>\n",
       "      <td>360.0</td>\n",
       "      <td>1.0</td>\n",
       "      <td>Urban</td>\n",
       "      <td>Y</td>\n",
       "    </tr>\n",
       "    <tr>\n",
       "      <th>1</th>\n",
       "      <td>LP001003</td>\n",
       "      <td>Male</td>\n",
       "      <td>Yes</td>\n",
       "      <td>1</td>\n",
       "      <td>Graduate</td>\n",
       "      <td>No</td>\n",
       "      <td>4583</td>\n",
       "      <td>1508.0</td>\n",
       "      <td>128.0</td>\n",
       "      <td>360.0</td>\n",
       "      <td>1.0</td>\n",
       "      <td>Rural</td>\n",
       "      <td>N</td>\n",
       "    </tr>\n",
       "    <tr>\n",
       "      <th>2</th>\n",
       "      <td>LP001005</td>\n",
       "      <td>Male</td>\n",
       "      <td>Yes</td>\n",
       "      <td>0</td>\n",
       "      <td>Graduate</td>\n",
       "      <td>Yes</td>\n",
       "      <td>3000</td>\n",
       "      <td>0.0</td>\n",
       "      <td>66.0</td>\n",
       "      <td>360.0</td>\n",
       "      <td>1.0</td>\n",
       "      <td>Urban</td>\n",
       "      <td>Y</td>\n",
       "    </tr>\n",
       "    <tr>\n",
       "      <th>3</th>\n",
       "      <td>LP001006</td>\n",
       "      <td>Male</td>\n",
       "      <td>Yes</td>\n",
       "      <td>0</td>\n",
       "      <td>Not Graduate</td>\n",
       "      <td>No</td>\n",
       "      <td>2583</td>\n",
       "      <td>2358.0</td>\n",
       "      <td>120.0</td>\n",
       "      <td>360.0</td>\n",
       "      <td>1.0</td>\n",
       "      <td>Urban</td>\n",
       "      <td>Y</td>\n",
       "    </tr>\n",
       "    <tr>\n",
       "      <th>4</th>\n",
       "      <td>LP001008</td>\n",
       "      <td>Male</td>\n",
       "      <td>No</td>\n",
       "      <td>0</td>\n",
       "      <td>Graduate</td>\n",
       "      <td>No</td>\n",
       "      <td>6000</td>\n",
       "      <td>0.0</td>\n",
       "      <td>141.0</td>\n",
       "      <td>360.0</td>\n",
       "      <td>1.0</td>\n",
       "      <td>Urban</td>\n",
       "      <td>Y</td>\n",
       "    </tr>\n",
       "  </tbody>\n",
       "</table>\n",
       "</div>"
      ],
      "text/plain": [
       "    Loan_ID Gender Married Dependents     Education Self_Employed  \\\n",
       "0  LP001002   Male      No          0      Graduate            No   \n",
       "1  LP001003   Male     Yes          1      Graduate            No   \n",
       "2  LP001005   Male     Yes          0      Graduate           Yes   \n",
       "3  LP001006   Male     Yes          0  Not Graduate            No   \n",
       "4  LP001008   Male      No          0      Graduate            No   \n",
       "\n",
       "   ApplicantIncome  CoapplicantIncome  LoanAmount  Loan_Amount_Term  \\\n",
       "0             5849                0.0         NaN             360.0   \n",
       "1             4583             1508.0       128.0             360.0   \n",
       "2             3000                0.0        66.0             360.0   \n",
       "3             2583             2358.0       120.0             360.0   \n",
       "4             6000                0.0       141.0             360.0   \n",
       "\n",
       "   Credit_History Property_Area Loan_Status  \n",
       "0             1.0         Urban           Y  \n",
       "1             1.0         Rural           N  \n",
       "2             1.0         Urban           Y  \n",
       "3             1.0         Urban           Y  \n",
       "4             1.0         Urban           Y  "
      ]
     },
     "execution_count": 4,
     "metadata": {},
     "output_type": "execute_result"
    }
   ],
   "source": [
    "# see some lines\n",
    "train_data.head(5)"
   ]
  },
  {
   "cell_type": "code",
   "execution_count": 5,
   "metadata": {},
   "outputs": [
    {
     "data": {
      "text/plain": [
       "(614, 13)"
      ]
     },
     "execution_count": 5,
     "metadata": {},
     "output_type": "execute_result"
    }
   ],
   "source": [
    "# get the number of data columns and rows\n",
    "train_data.shape"
   ]
  },
  {
   "cell_type": "code",
   "execution_count": 6,
   "metadata": {},
   "outputs": [
    {
     "data": {
      "text/plain": [
       "Index(['Loan_ID', 'Gender', 'Married', 'Dependents', 'Education',\n",
       "       'Self_Employed', 'ApplicantIncome', 'CoapplicantIncome', 'LoanAmount',\n",
       "       'Loan_Amount_Term', 'Credit_History', 'Property_Area', 'Loan_Status'],\n",
       "      dtype='object')"
      ]
     },
     "execution_count": 6,
     "metadata": {},
     "output_type": "execute_result"
    }
   ],
   "source": [
    "train_data.columns"
   ]
  },
  {
   "cell_type": "code",
   "execution_count": 7,
   "metadata": {},
   "outputs": [
    {
     "data": {
      "text/html": [
       "<div>\n",
       "<style scoped>\n",
       "    .dataframe tbody tr th:only-of-type {\n",
       "        vertical-align: middle;\n",
       "    }\n",
       "\n",
       "    .dataframe tbody tr th {\n",
       "        vertical-align: top;\n",
       "    }\n",
       "\n",
       "    .dataframe thead th {\n",
       "        text-align: right;\n",
       "    }\n",
       "</style>\n",
       "<table border=\"1\" class=\"dataframe\">\n",
       "  <thead>\n",
       "    <tr style=\"text-align: right;\">\n",
       "      <th></th>\n",
       "      <th>ApplicantIncome</th>\n",
       "      <th>CoapplicantIncome</th>\n",
       "      <th>LoanAmount</th>\n",
       "      <th>Loan_Amount_Term</th>\n",
       "      <th>Credit_History</th>\n",
       "    </tr>\n",
       "  </thead>\n",
       "  <tbody>\n",
       "    <tr>\n",
       "      <th>count</th>\n",
       "      <td>614.000000</td>\n",
       "      <td>614.000000</td>\n",
       "      <td>592.000000</td>\n",
       "      <td>600.00000</td>\n",
       "      <td>564.000000</td>\n",
       "    </tr>\n",
       "    <tr>\n",
       "      <th>mean</th>\n",
       "      <td>5403.459283</td>\n",
       "      <td>1621.245798</td>\n",
       "      <td>146.412162</td>\n",
       "      <td>342.00000</td>\n",
       "      <td>0.842199</td>\n",
       "    </tr>\n",
       "    <tr>\n",
       "      <th>std</th>\n",
       "      <td>6109.041673</td>\n",
       "      <td>2926.248369</td>\n",
       "      <td>85.587325</td>\n",
       "      <td>65.12041</td>\n",
       "      <td>0.364878</td>\n",
       "    </tr>\n",
       "    <tr>\n",
       "      <th>min</th>\n",
       "      <td>150.000000</td>\n",
       "      <td>0.000000</td>\n",
       "      <td>9.000000</td>\n",
       "      <td>12.00000</td>\n",
       "      <td>0.000000</td>\n",
       "    </tr>\n",
       "    <tr>\n",
       "      <th>25%</th>\n",
       "      <td>2877.500000</td>\n",
       "      <td>0.000000</td>\n",
       "      <td>100.000000</td>\n",
       "      <td>360.00000</td>\n",
       "      <td>1.000000</td>\n",
       "    </tr>\n",
       "    <tr>\n",
       "      <th>50%</th>\n",
       "      <td>3812.500000</td>\n",
       "      <td>1188.500000</td>\n",
       "      <td>128.000000</td>\n",
       "      <td>360.00000</td>\n",
       "      <td>1.000000</td>\n",
       "    </tr>\n",
       "    <tr>\n",
       "      <th>75%</th>\n",
       "      <td>5795.000000</td>\n",
       "      <td>2297.250000</td>\n",
       "      <td>168.000000</td>\n",
       "      <td>360.00000</td>\n",
       "      <td>1.000000</td>\n",
       "    </tr>\n",
       "    <tr>\n",
       "      <th>max</th>\n",
       "      <td>81000.000000</td>\n",
       "      <td>41667.000000</td>\n",
       "      <td>700.000000</td>\n",
       "      <td>480.00000</td>\n",
       "      <td>1.000000</td>\n",
       "    </tr>\n",
       "  </tbody>\n",
       "</table>\n",
       "</div>"
      ],
      "text/plain": [
       "       ApplicantIncome  CoapplicantIncome  LoanAmount  Loan_Amount_Term  \\\n",
       "count       614.000000         614.000000  592.000000         600.00000   \n",
       "mean       5403.459283        1621.245798  146.412162         342.00000   \n",
       "std        6109.041673        2926.248369   85.587325          65.12041   \n",
       "min         150.000000           0.000000    9.000000          12.00000   \n",
       "25%        2877.500000           0.000000  100.000000         360.00000   \n",
       "50%        3812.500000        1188.500000  128.000000         360.00000   \n",
       "75%        5795.000000        2297.250000  168.000000         360.00000   \n",
       "max       81000.000000       41667.000000  700.000000         480.00000   \n",
       "\n",
       "       Credit_History  \n",
       "count      564.000000  \n",
       "mean         0.842199  \n",
       "std          0.364878  \n",
       "min          0.000000  \n",
       "25%          1.000000  \n",
       "50%          1.000000  \n",
       "75%          1.000000  \n",
       "max          1.000000  "
      ]
     },
     "execution_count": 7,
     "metadata": {},
     "output_type": "execute_result"
    }
   ],
   "source": [
    "train_data.describe()"
   ]
  },
  {
   "cell_type": "code",
   "execution_count": 8,
   "metadata": {},
   "outputs": [
    {
     "data": {
      "text/plain": [
       "Loan_ID               object\n",
       "Gender                object\n",
       "Married               object\n",
       "Dependents            object\n",
       "Education             object\n",
       "Self_Employed         object\n",
       "ApplicantIncome        int64\n",
       "CoapplicantIncome    float64\n",
       "LoanAmount           float64\n",
       "Loan_Amount_Term     float64\n",
       "Credit_History       float64\n",
       "Property_Area         object\n",
       "Loan_Status           object\n",
       "dtype: object"
      ]
     },
     "execution_count": 8,
     "metadata": {},
     "output_type": "execute_result"
    }
   ],
   "source": [
    "train_data.dtypes"
   ]
  },
  {
   "cell_type": "code",
   "execution_count": 9,
   "metadata": {},
   "outputs": [
    {
     "data": {
      "text/plain": [
       "Loan_ID               0\n",
       "Gender               13\n",
       "Married               3\n",
       "Dependents           15\n",
       "Education             0\n",
       "Self_Employed        32\n",
       "ApplicantIncome       0\n",
       "CoapplicantIncome     0\n",
       "LoanAmount           22\n",
       "Loan_Amount_Term     14\n",
       "Credit_History       50\n",
       "Property_Area         0\n",
       "Loan_Status           0\n",
       "dtype: int64"
      ]
     },
     "execution_count": 9,
     "metadata": {},
     "output_type": "execute_result"
    }
   ],
   "source": [
    "train_data.isna().sum()"
   ]
  },
  {
   "cell_type": "markdown",
   "metadata": {},
   "source": [
    "this column is ID column: no need for it (no real change on the model prediction):\n",
    "    \n",
    "    Loan_ID"
   ]
  },
  {
   "cell_type": "markdown",
   "metadata": {},
   "source": [
    "## Delete ID column"
   ]
  },
  {
   "cell_type": "code",
   "execution_count": 10,
   "metadata": {},
   "outputs": [],
   "source": [
    "train_data.drop('Loan_ID', inplace=True, axis=1)"
   ]
  },
  {
   "cell_type": "code",
   "execution_count": 11,
   "metadata": {},
   "outputs": [
    {
     "data": {
      "text/plain": [
       "Index(['Gender', 'Married', 'Dependents', 'Education', 'Self_Employed',\n",
       "       'ApplicantIncome', 'CoapplicantIncome', 'LoanAmount',\n",
       "       'Loan_Amount_Term', 'Credit_History', 'Property_Area', 'Loan_Status'],\n",
       "      dtype='object')"
      ]
     },
     "execution_count": 11,
     "metadata": {},
     "output_type": "execute_result"
    }
   ],
   "source": [
    "train_data.columns"
   ]
  },
  {
   "cell_type": "markdown",
   "metadata": {},
   "source": [
    "# Split the dataset by dataset type (category and numaric)"
   ]
  },
  {
   "cell_type": "code",
   "execution_count": 12,
   "metadata": {},
   "outputs": [],
   "source": [
    "train_numaric = train_data.select_dtypes(include=['int64', 'float64']).copy()\n",
    "train_cetagory = train_data.select_dtypes(include=['object']).copy()"
   ]
  },
  {
   "cell_type": "markdown",
   "metadata": {},
   "source": [
    "# Feature Engineering "
   ]
  },
  {
   "cell_type": "markdown",
   "metadata": {},
   "source": [
    "## Numaric Data"
   ]
  },
  {
   "cell_type": "code",
   "execution_count": 13,
   "metadata": {},
   "outputs": [
    {
     "data": {
      "text/plain": [
       "array([[<matplotlib.axes._subplots.AxesSubplot object at 0x000001EC765A4340>,\n",
       "        <matplotlib.axes._subplots.AxesSubplot object at 0x000001EC76C7C7F0>],\n",
       "       [<matplotlib.axes._subplots.AxesSubplot object at 0x000001EC76CABC40>,\n",
       "        <matplotlib.axes._subplots.AxesSubplot object at 0x000001EC76CD7160>],\n",
       "       [<matplotlib.axes._subplots.AxesSubplot object at 0x000001EC76D10550>,\n",
       "        <matplotlib.axes._subplots.AxesSubplot object at 0x000001EC76D3CA00>]],\n",
       "      dtype=object)"
      ]
     },
     "execution_count": 13,
     "metadata": {},
     "output_type": "execute_result"
    },
    {
     "data": {
      "image/png": "[encoded data removed]",
      "text/plain": [
       "<Figure size 720x720 with 6 Axes>"
      ]
     },
     "metadata": {
      "needs_background": "light"
     },
     "output_type": "display_data"
    }
   ],
   "source": [
    "# Display the histogram for the numaric data\n",
    "train_numaric.hist(figsize=(10,10))"
   ]
  },
  {
   "cell_type": "markdown",
   "metadata": {},
   "source": [
    "* Credit_History column is a category data but display in numaric form\n",
    "* noticed that there are no scalling. so we are going to scalling the data"
   ]
  },
  {
   "cell_type": "code",
   "execution_count": 14,
   "metadata": {},
   "outputs": [],
   "source": [
    "train_numaric = train_numaric.drop('Credit_History', axis=1)\n",
    "train_cetagory['Credit_History'] = train_data.Credit_History"
   ]
  },
  {
   "cell_type": "markdown",
   "metadata": {},
   "source": [
    "### Missing values"
   ]
  },
  {
   "cell_type": "code",
   "execution_count": 15,
   "metadata": {},
   "outputs": [
    {
     "data": {
      "text/plain": [
       "ApplicantIncome       0\n",
       "CoapplicantIncome     0\n",
       "LoanAmount           22\n",
       "Loan_Amount_Term     14\n",
       "dtype: int64"
      ]
     },
     "execution_count": 15,
     "metadata": {},
     "output_type": "execute_result"
    }
   ],
   "source": [
    "train_numaric.isna().sum()"
   ]
  },
  {
   "cell_type": "code",
   "execution_count": 16,
   "metadata": {},
   "outputs": [],
   "source": [
    "for col in train_numaric.columns:\n",
    "    train_data[col] = train_data[col].fillna(train_data[col].mean())\n",
    "\n",
    "train_numaric = train_numaric.fillna(train_numaric.mean())"
   ]
  },
  {
   "cell_type": "code",
   "execution_count": 17,
   "metadata": {},
   "outputs": [
    {
     "data": {
      "text/plain": [
       "Gender               13\n",
       "Married               3\n",
       "Dependents           15\n",
       "Education             0\n",
       "Self_Employed        32\n",
       "ApplicantIncome       0\n",
       "CoapplicantIncome     0\n",
       "LoanAmount            0\n",
       "Loan_Amount_Term      0\n",
       "Credit_History       50\n",
       "Property_Area         0\n",
       "Loan_Status           0\n",
       "dtype: int64"
      ]
     },
     "execution_count": 17,
     "metadata": {},
     "output_type": "execute_result"
    }
   ],
   "source": [
    "train_data.isna().sum()"
   ]
  },
  {
   "cell_type": "markdown",
   "metadata": {},
   "source": [
    "### Scaling"
   ]
  },
  {
   "cell_type": "code",
   "execution_count": 18,
   "metadata": {},
   "outputs": [],
   "source": [
    "for col in train_numaric.columns:\n",
    "    train_data[col] = (train_numaric[col]-train_numaric[col].mean())/train_numaric[col].std()\n",
    "\n",
    "train_numaric = (train_numaric-train_numaric.mean())/train_numaric.std()"
   ]
  },
  {
   "cell_type": "code",
   "execution_count": 19,
   "metadata": {},
   "outputs": [
    {
     "data": {
      "text/plain": [
       "array([[<matplotlib.axes._subplots.AxesSubplot object at 0x000001EC772B83D0>,\n",
       "        <matplotlib.axes._subplots.AxesSubplot object at 0x000001EC772F6880>],\n",
       "       [<matplotlib.axes._subplots.AxesSubplot object at 0x000001EC77324CD0>,\n",
       "        <matplotlib.axes._subplots.AxesSubplot object at 0x000001EC7735C160>]],\n",
       "      dtype=object)"
      ]
     },
     "execution_count": 19,
     "metadata": {},
     "output_type": "execute_result"
    },
    {
     "data": {
      "image/png": "[encoded data removed]",
      "text/plain": [
       "<Figure size 720x720 with 4 Axes>"
      ]
     },
     "metadata": {
      "needs_background": "light"
     },
     "output_type": "display_data"
    }
   ],
   "source": [
    "train_numaric.hist(figsize=(10,10),range=[-12, 12])"
   ]
  },
  {
   "cell_type": "markdown",
   "metadata": {},
   "source": [
    "## Category Data"
   ]
  },
  {
   "cell_type": "markdown",
   "metadata": {},
   "source": [
    "### Missing values "
   ]
  },
  {
   "cell_type": "code",
   "execution_count": 20,
   "metadata": {},
   "outputs": [
    {
     "data": {
      "text/plain": [
       "Gender            13\n",
       "Married            3\n",
       "Dependents        15\n",
       "Education          0\n",
       "Self_Employed     32\n",
       "Property_Area      0\n",
       "Loan_Status        0\n",
       "Credit_History    50\n",
       "dtype: int64"
      ]
     },
     "execution_count": 20,
     "metadata": {},
     "output_type": "execute_result"
    }
   ],
   "source": [
    "train_cetagory.isna().sum()"
   ]
  },
  {
   "cell_type": "markdown",
   "metadata": {},
   "source": [
    "this columns has nan values -> need to handle them by replacing the Nan with the frequency value:\n",
    "\n",
    "    Gender, Dependents, Self_Employed, Credit_History: frequency value\n",
    "\n",
    "    Married: Last/Next value\n",
    "    "
   ]
  },
  {
   "cell_type": "markdown",
   "metadata": {},
   "source": [
    "#### Handle Married Column"
   ]
  },
  {
   "cell_type": "code",
   "execution_count": 21,
   "metadata": {},
   "outputs": [
    {
     "name": "stderr",
     "output_type": "stream",
     "text": [
      "c:\\Users\\DELL\\anaconda3\\lib\\site-packages\\pandas\\core\\indexing.py:671: SettingWithCopyWarning: \n",
      "A value is trying to be set on a copy of a slice from a DataFrame\n",
      "\n",
      "See the caveats in the documentation: https://pandas.pydata.org/pandas-docs/stable/user_guide/indexing.html#returning-a-view-versus-a-copy\n",
      "  self._setitem_with_indexer(indexer, value)\n"
     ]
    }
   ],
   "source": [
    "married_missing = train_cetagory[\"Married\"][train_cetagory[\"Married\"].isna()] \n",
    "for i in married_missing.keys():\n",
    "    train_cetagory[\"Married\"].iloc[i] = train_cetagory[\"Married\"].iloc[i-1]"
   ]
  },
  {
   "cell_type": "markdown",
   "metadata": {},
   "source": [
    "#### Handle other columns missing value"
   ]
  },
  {
   "cell_type": "code",
   "execution_count": 22,
   "metadata": {},
   "outputs": [],
   "source": [
    "for i in train_cetagory.columns:\n",
    "    frequency = train_cetagory[i].mode()[0]\n",
    "    train_cetagory[i].fillna(frequency, inplace=True)"
   ]
  },
  {
   "cell_type": "code",
   "execution_count": 23,
   "metadata": {},
   "outputs": [
    {
     "data": {
      "text/plain": [
       "Gender            0\n",
       "Married           0\n",
       "Dependents        0\n",
       "Education         0\n",
       "Self_Employed     0\n",
       "Property_Area     0\n",
       "Loan_Status       0\n",
       "Credit_History    0\n",
       "dtype: int64"
      ]
     },
     "execution_count": 23,
     "metadata": {},
     "output_type": "execute_result"
    }
   ],
   "source": [
    "train_cetagory.isna().sum()"
   ]
  },
  {
   "cell_type": "markdown",
   "metadata": {},
   "source": [
    "#### Save the changes to train_data set"
   ]
  },
  {
   "cell_type": "code",
   "execution_count": 24,
   "metadata": {},
   "outputs": [],
   "source": [
    "for cat in train_cetagory:\n",
    "    train_data[cat] = train_cetagory[cat]"
   ]
  },
  {
   "cell_type": "code",
   "execution_count": 25,
   "metadata": {},
   "outputs": [
    {
     "data": {
      "text/plain": [
       "Gender               0\n",
       "Married              0\n",
       "Dependents           0\n",
       "Education            0\n",
       "Self_Employed        0\n",
       "ApplicantIncome      0\n",
       "CoapplicantIncome    0\n",
       "LoanAmount           0\n",
       "Loan_Amount_Term     0\n",
       "Credit_History       0\n",
       "Property_Area        0\n",
       "Loan_Status          0\n",
       "dtype: int64"
      ]
     },
     "execution_count": 25,
     "metadata": {},
     "output_type": "execute_result"
    }
   ],
   "source": [
    "train_data.isna().sum()"
   ]
  },
  {
   "cell_type": "markdown",
   "metadata": {},
   "source": [
    "### Handle Category data to Numaric"
   ]
  },
  {
   "cell_type": "code",
   "execution_count": 26,
   "metadata": {},
   "outputs": [
    {
     "data": {
      "text/html": [
       "<div>\n",
       "<style scoped>\n",
       "    .dataframe tbody tr th:only-of-type {\n",
       "        vertical-align: middle;\n",
       "    }\n",
       "\n",
       "    .dataframe tbody tr th {\n",
       "        vertical-align: top;\n",
       "    }\n",
       "\n",
       "    .dataframe thead th {\n",
       "        text-align: right;\n",
       "    }\n",
       "</style>\n",
       "<table border=\"1\" class=\"dataframe\">\n",
       "  <thead>\n",
       "    <tr style=\"text-align: right;\">\n",
       "      <th></th>\n",
       "      <th>Gender</th>\n",
       "      <th>Married</th>\n",
       "      <th>Dependents</th>\n",
       "      <th>Education</th>\n",
       "      <th>Self_Employed</th>\n",
       "      <th>Property_Area</th>\n",
       "      <th>Loan_Status</th>\n",
       "      <th>Credit_History</th>\n",
       "    </tr>\n",
       "  </thead>\n",
       "  <tbody>\n",
       "    <tr>\n",
       "      <th>0</th>\n",
       "      <td>Male</td>\n",
       "      <td>No</td>\n",
       "      <td>0</td>\n",
       "      <td>Graduate</td>\n",
       "      <td>No</td>\n",
       "      <td>Urban</td>\n",
       "      <td>Y</td>\n",
       "      <td>1.0</td>\n",
       "    </tr>\n",
       "    <tr>\n",
       "      <th>1</th>\n",
       "      <td>Male</td>\n",
       "      <td>Yes</td>\n",
       "      <td>1</td>\n",
       "      <td>Graduate</td>\n",
       "      <td>No</td>\n",
       "      <td>Rural</td>\n",
       "      <td>N</td>\n",
       "      <td>1.0</td>\n",
       "    </tr>\n",
       "    <tr>\n",
       "      <th>2</th>\n",
       "      <td>Male</td>\n",
       "      <td>Yes</td>\n",
       "      <td>0</td>\n",
       "      <td>Graduate</td>\n",
       "      <td>Yes</td>\n",
       "      <td>Urban</td>\n",
       "      <td>Y</td>\n",
       "      <td>1.0</td>\n",
       "    </tr>\n",
       "    <tr>\n",
       "      <th>3</th>\n",
       "      <td>Male</td>\n",
       "      <td>Yes</td>\n",
       "      <td>0</td>\n",
       "      <td>Not Graduate</td>\n",
       "      <td>No</td>\n",
       "      <td>Urban</td>\n",
       "      <td>Y</td>\n",
       "      <td>1.0</td>\n",
       "    </tr>\n",
       "    <tr>\n",
       "      <th>4</th>\n",
       "      <td>Male</td>\n",
       "      <td>No</td>\n",
       "      <td>0</td>\n",
       "      <td>Graduate</td>\n",
       "      <td>No</td>\n",
       "      <td>Urban</td>\n",
       "      <td>Y</td>\n",
       "      <td>1.0</td>\n",
       "    </tr>\n",
       "  </tbody>\n",
       "</table>\n",
       "</div>"
      ],
      "text/plain": [
       "  Gender Married Dependents     Education Self_Employed Property_Area  \\\n",
       "0   Male      No          0      Graduate            No         Urban   \n",
       "1   Male     Yes          1      Graduate            No         Rural   \n",
       "2   Male     Yes          0      Graduate           Yes         Urban   \n",
       "3   Male     Yes          0  Not Graduate            No         Urban   \n",
       "4   Male      No          0      Graduate            No         Urban   \n",
       "\n",
       "  Loan_Status  Credit_History  \n",
       "0           Y             1.0  \n",
       "1           N             1.0  \n",
       "2           Y             1.0  \n",
       "3           Y             1.0  \n",
       "4           Y             1.0  "
      ]
     },
     "execution_count": 26,
     "metadata": {},
     "output_type": "execute_result"
    }
   ],
   "source": [
    "train_cetagory.head()"
   ]
  },
  {
   "cell_type": "code",
   "execution_count": 27,
   "metadata": {},
   "outputs": [
    {
     "name": "stdout",
     "output_type": "stream",
     "text": [
      "['Male' 'Female']\n",
      "['No' 'Yes']\n",
      "['0' '1' '2' '3+']\n",
      "['Graduate' 'Not Graduate']\n",
      "['No' 'Yes']\n",
      "['Urban' 'Rural' 'Semiurban']\n",
      "['Y' 'N']\n",
      "[1. 0.]\n"
     ]
    }
   ],
   "source": [
    "for col in train_cetagory.columns:\n",
    "    print(train_cetagory[col].unique())"
   ]
  },
  {
   "cell_type": "code",
   "execution_count": 28,
   "metadata": {},
   "outputs": [
    {
     "data": {
      "text/html": [
       "<div>\n",
       "<style scoped>\n",
       "    .dataframe tbody tr th:only-of-type {\n",
       "        vertical-align: middle;\n",
       "    }\n",
       "\n",
       "    .dataframe tbody tr th {\n",
       "        vertical-align: top;\n",
       "    }\n",
       "\n",
       "    .dataframe thead th {\n",
       "        text-align: right;\n",
       "    }\n",
       "</style>\n",
       "<table border=\"1\" class=\"dataframe\">\n",
       "  <thead>\n",
       "    <tr style=\"text-align: right;\">\n",
       "      <th></th>\n",
       "      <th>Gender</th>\n",
       "      <th>Married</th>\n",
       "      <th>Dependents</th>\n",
       "      <th>Education</th>\n",
       "      <th>Self_Employed</th>\n",
       "      <th>ApplicantIncome</th>\n",
       "      <th>CoapplicantIncome</th>\n",
       "      <th>LoanAmount</th>\n",
       "      <th>Loan_Amount_Term</th>\n",
       "      <th>Credit_History</th>\n",
       "      <th>Property_Area</th>\n",
       "      <th>Loan_Status</th>\n",
       "    </tr>\n",
       "  </thead>\n",
       "  <tbody>\n",
       "    <tr>\n",
       "      <th>0</th>\n",
       "      <td>Male</td>\n",
       "      <td>0</td>\n",
       "      <td>0</td>\n",
       "      <td>0</td>\n",
       "      <td>0</td>\n",
       "      <td>0.072931</td>\n",
       "      <td>-0.554036</td>\n",
       "      <td>3.382028e-16</td>\n",
       "      <td>0.279623</td>\n",
       "      <td>1</td>\n",
       "      <td>Urban</td>\n",
       "      <td>1</td>\n",
       "    </tr>\n",
       "    <tr>\n",
       "      <th>1</th>\n",
       "      <td>Male</td>\n",
       "      <td>1</td>\n",
       "      <td>1</td>\n",
       "      <td>0</td>\n",
       "      <td>0</td>\n",
       "      <td>-0.134302</td>\n",
       "      <td>-0.038700</td>\n",
       "      <td>-2.190947e-01</td>\n",
       "      <td>0.279623</td>\n",
       "      <td>1</td>\n",
       "      <td>Rural</td>\n",
       "      <td>0</td>\n",
       "    </tr>\n",
       "    <tr>\n",
       "      <th>2</th>\n",
       "      <td>Male</td>\n",
       "      <td>1</td>\n",
       "      <td>0</td>\n",
       "      <td>0</td>\n",
       "      <td>1</td>\n",
       "      <td>-0.393427</td>\n",
       "      <td>-0.554036</td>\n",
       "      <td>-9.568608e-01</td>\n",
       "      <td>0.279623</td>\n",
       "      <td>1</td>\n",
       "      <td>Urban</td>\n",
       "      <td>1</td>\n",
       "    </tr>\n",
       "    <tr>\n",
       "      <th>3</th>\n",
       "      <td>Male</td>\n",
       "      <td>1</td>\n",
       "      <td>0</td>\n",
       "      <td>1</td>\n",
       "      <td>0</td>\n",
       "      <td>-0.461686</td>\n",
       "      <td>0.251774</td>\n",
       "      <td>-3.142903e-01</td>\n",
       "      <td>0.279623</td>\n",
       "      <td>1</td>\n",
       "      <td>Urban</td>\n",
       "      <td>1</td>\n",
       "    </tr>\n",
       "    <tr>\n",
       "      <th>4</th>\n",
       "      <td>Male</td>\n",
       "      <td>0</td>\n",
       "      <td>0</td>\n",
       "      <td>0</td>\n",
       "      <td>0</td>\n",
       "      <td>0.097649</td>\n",
       "      <td>-0.554036</td>\n",
       "      <td>-6.440178e-02</td>\n",
       "      <td>0.279623</td>\n",
       "      <td>1</td>\n",
       "      <td>Urban</td>\n",
       "      <td>1</td>\n",
       "    </tr>\n",
       "    <tr>\n",
       "      <th>...</th>\n",
       "      <td>...</td>\n",
       "      <td>...</td>\n",
       "      <td>...</td>\n",
       "      <td>...</td>\n",
       "      <td>...</td>\n",
       "      <td>...</td>\n",
       "      <td>...</td>\n",
       "      <td>...</td>\n",
       "      <td>...</td>\n",
       "      <td>...</td>\n",
       "      <td>...</td>\n",
       "      <td>...</td>\n",
       "    </tr>\n",
       "    <tr>\n",
       "      <th>609</th>\n",
       "      <td>Female</td>\n",
       "      <td>0</td>\n",
       "      <td>0</td>\n",
       "      <td>0</td>\n",
       "      <td>0</td>\n",
       "      <td>-0.409796</td>\n",
       "      <td>-0.554036</td>\n",
       "      <td>-8.973636e-01</td>\n",
       "      <td>0.279623</td>\n",
       "      <td>1</td>\n",
       "      <td>Rural</td>\n",
       "      <td>1</td>\n",
       "    </tr>\n",
       "    <tr>\n",
       "      <th>610</th>\n",
       "      <td>Male</td>\n",
       "      <td>1</td>\n",
       "      <td>3+</td>\n",
       "      <td>0</td>\n",
       "      <td>0</td>\n",
       "      <td>-0.212383</td>\n",
       "      <td>-0.554036</td>\n",
       "      <td>-1.266247e+00</td>\n",
       "      <td>-2.516603</td>\n",
       "      <td>1</td>\n",
       "      <td>Rural</td>\n",
       "      <td>1</td>\n",
       "    </tr>\n",
       "    <tr>\n",
       "      <th>611</th>\n",
       "      <td>Male</td>\n",
       "      <td>1</td>\n",
       "      <td>1</td>\n",
       "      <td>0</td>\n",
       "      <td>0</td>\n",
       "      <td>0.436818</td>\n",
       "      <td>-0.472019</td>\n",
       "      <td>1.268337e+00</td>\n",
       "      <td>0.279623</td>\n",
       "      <td>1</td>\n",
       "      <td>Urban</td>\n",
       "      <td>1</td>\n",
       "    </tr>\n",
       "    <tr>\n",
       "      <th>612</th>\n",
       "      <td>Male</td>\n",
       "      <td>1</td>\n",
       "      <td>2</td>\n",
       "      <td>0</td>\n",
       "      <td>0</td>\n",
       "      <td>0.356773</td>\n",
       "      <td>-0.554036</td>\n",
       "      <td>4.829731e-01</td>\n",
       "      <td>0.279623</td>\n",
       "      <td>1</td>\n",
       "      <td>Urban</td>\n",
       "      <td>1</td>\n",
       "    </tr>\n",
       "    <tr>\n",
       "      <th>613</th>\n",
       "      <td>Female</td>\n",
       "      <td>0</td>\n",
       "      <td>0</td>\n",
       "      <td>0</td>\n",
       "      <td>1</td>\n",
       "      <td>-0.134302</td>\n",
       "      <td>-0.554036</td>\n",
       "      <td>-1.595974e-01</td>\n",
       "      <td>0.279623</td>\n",
       "      <td>0</td>\n",
       "      <td>Semiurban</td>\n",
       "      <td>0</td>\n",
       "    </tr>\n",
       "  </tbody>\n",
       "</table>\n",
       "<p>614 rows × 12 columns</p>\n",
       "</div>"
      ],
      "text/plain": [
       "     Gender  Married Dependents  Education  Self_Employed  ApplicantIncome  \\\n",
       "0      Male        0          0          0              0         0.072931   \n",
       "1      Male        1          1          0              0        -0.134302   \n",
       "2      Male        1          0          0              1        -0.393427   \n",
       "3      Male        1          0          1              0        -0.461686   \n",
       "4      Male        0          0          0              0         0.097649   \n",
       "..      ...      ...        ...        ...            ...              ...   \n",
       "609  Female        0          0          0              0        -0.409796   \n",
       "610    Male        1         3+          0              0        -0.212383   \n",
       "611    Male        1          1          0              0         0.436818   \n",
       "612    Male        1          2          0              0         0.356773   \n",
       "613  Female        0          0          0              1        -0.134302   \n",
       "\n",
       "     CoapplicantIncome    LoanAmount  Loan_Amount_Term  Credit_History  \\\n",
       "0            -0.554036  3.382028e-16          0.279623               1   \n",
       "1            -0.038700 -2.190947e-01          0.279623               1   \n",
       "2            -0.554036 -9.568608e-01          0.279623               1   \n",
       "3             0.251774 -3.142903e-01          0.279623               1   \n",
       "4            -0.554036 -6.440178e-02          0.279623               1   \n",
       "..                 ...           ...               ...             ...   \n",
       "609          -0.554036 -8.973636e-01          0.279623               1   \n",
       "610          -0.554036 -1.266247e+00         -2.516603               1   \n",
       "611          -0.472019  1.268337e+00          0.279623               1   \n",
       "612          -0.554036  4.829731e-01          0.279623               1   \n",
       "613          -0.554036 -1.595974e-01          0.279623               0   \n",
       "\n",
       "    Property_Area  Loan_Status  \n",
       "0           Urban            1  \n",
       "1           Rural            0  \n",
       "2           Urban            1  \n",
       "3           Urban            1  \n",
       "4           Urban            1  \n",
       "..            ...          ...  \n",
       "609         Rural            1  \n",
       "610         Rural            1  \n",
       "611         Urban            1  \n",
       "612         Urban            1  \n",
       "613     Semiurban            0  \n",
       "\n",
       "[614 rows x 12 columns]"
      ]
     },
     "execution_count": 28,
     "metadata": {},
     "output_type": "execute_result"
    }
   ],
   "source": [
    "# column need labeling\n",
    "label_column = [\"Married\", \"Education\", \"Self_Employed\", \"Loan_Status\", \"Credit_History\"]\n",
    "\n",
    "# creating instance of labelencoder\n",
    "labelencoder = LabelEncoder()\n",
    "\n",
    "# Assigning numerical values and storing in the same column\n",
    "for column in label_column:\n",
    "    train_data[column] = labelencoder.fit_transform(train_data[column])\n",
    "\n",
    "train_data"
   ]
  },
  {
   "cell_type": "code",
   "execution_count": 29,
   "metadata": {},
   "outputs": [],
   "source": [
    "ohe = OneHotEncoder(sparse=False)\n",
    "\n",
    "ohe_data = ohe.fit_transform(train_data[[\"Gender\", \"Dependents\", \"Property_Area\"]])\n",
    "\n",
    "transformed_df = pd.DataFrame(\n",
    "    ohe_data,\n",
    "    columns=ohe.get_feature_names([\"Gender\", \"Dependents\", \"Property_Area\"])\n",
    ")"
   ]
  },
  {
   "cell_type": "code",
   "execution_count": 30,
   "metadata": {},
   "outputs": [],
   "source": [
    "# merge one-hot encoded columns with original DataFrame\n",
    "train_data = train_data.join(transformed_df)\n",
    "\n",
    "# Drop the Original Categorical Variable\n",
    "train_data = train_data.drop([\"Gender\", \"Dependents\", \"Property_Area\"], axis=1)"
   ]
  },
  {
   "cell_type": "code",
   "execution_count": 31,
   "metadata": {},
   "outputs": [
    {
     "data": {
      "text/html": [
       "<div>\n",
       "<style scoped>\n",
       "    .dataframe tbody tr th:only-of-type {\n",
       "        vertical-align: middle;\n",
       "    }\n",
       "\n",
       "    .dataframe tbody tr th {\n",
       "        vertical-align: top;\n",
       "    }\n",
       "\n",
       "    .dataframe thead th {\n",
       "        text-align: right;\n",
       "    }\n",
       "</style>\n",
       "<table border=\"1\" class=\"dataframe\">\n",
       "  <thead>\n",
       "    <tr style=\"text-align: right;\">\n",
       "      <th></th>\n",
       "      <th>Married</th>\n",
       "      <th>Education</th>\n",
       "      <th>Self_Employed</th>\n",
       "      <th>ApplicantIncome</th>\n",
       "      <th>CoapplicantIncome</th>\n",
       "      <th>LoanAmount</th>\n",
       "      <th>Loan_Amount_Term</th>\n",
       "      <th>Credit_History</th>\n",
       "      <th>Loan_Status</th>\n",
       "      <th>Gender_Female</th>\n",
       "      <th>Gender_Male</th>\n",
       "      <th>Dependents_0</th>\n",
       "      <th>Dependents_1</th>\n",
       "      <th>Dependents_2</th>\n",
       "      <th>Dependents_3+</th>\n",
       "      <th>Property_Area_Rural</th>\n",
       "      <th>Property_Area_Semiurban</th>\n",
       "      <th>Property_Area_Urban</th>\n",
       "    </tr>\n",
       "  </thead>\n",
       "  <tbody>\n",
       "    <tr>\n",
       "      <th>0</th>\n",
       "      <td>0</td>\n",
       "      <td>0</td>\n",
       "      <td>0</td>\n",
       "      <td>0.072931</td>\n",
       "      <td>-0.554036</td>\n",
       "      <td>3.382028e-16</td>\n",
       "      <td>0.279623</td>\n",
       "      <td>1</td>\n",
       "      <td>1</td>\n",
       "      <td>0.0</td>\n",
       "      <td>1.0</td>\n",
       "      <td>1.0</td>\n",
       "      <td>0.0</td>\n",
       "      <td>0.0</td>\n",
       "      <td>0.0</td>\n",
       "      <td>0.0</td>\n",
       "      <td>0.0</td>\n",
       "      <td>1.0</td>\n",
       "    </tr>\n",
       "    <tr>\n",
       "      <th>1</th>\n",
       "      <td>1</td>\n",
       "      <td>0</td>\n",
       "      <td>0</td>\n",
       "      <td>-0.134302</td>\n",
       "      <td>-0.038700</td>\n",
       "      <td>-2.190947e-01</td>\n",
       "      <td>0.279623</td>\n",
       "      <td>1</td>\n",
       "      <td>0</td>\n",
       "      <td>0.0</td>\n",
       "      <td>1.0</td>\n",
       "      <td>0.0</td>\n",
       "      <td>1.0</td>\n",
       "      <td>0.0</td>\n",
       "      <td>0.0</td>\n",
       "      <td>1.0</td>\n",
       "      <td>0.0</td>\n",
       "      <td>0.0</td>\n",
       "    </tr>\n",
       "    <tr>\n",
       "      <th>2</th>\n",
       "      <td>1</td>\n",
       "      <td>0</td>\n",
       "      <td>1</td>\n",
       "      <td>-0.393427</td>\n",
       "      <td>-0.554036</td>\n",
       "      <td>-9.568608e-01</td>\n",
       "      <td>0.279623</td>\n",
       "      <td>1</td>\n",
       "      <td>1</td>\n",
       "      <td>0.0</td>\n",
       "      <td>1.0</td>\n",
       "      <td>1.0</td>\n",
       "      <td>0.0</td>\n",
       "      <td>0.0</td>\n",
       "      <td>0.0</td>\n",
       "      <td>0.0</td>\n",
       "      <td>0.0</td>\n",
       "      <td>1.0</td>\n",
       "    </tr>\n",
       "    <tr>\n",
       "      <th>3</th>\n",
       "      <td>1</td>\n",
       "      <td>1</td>\n",
       "      <td>0</td>\n",
       "      <td>-0.461686</td>\n",
       "      <td>0.251774</td>\n",
       "      <td>-3.142903e-01</td>\n",
       "      <td>0.279623</td>\n",
       "      <td>1</td>\n",
       "      <td>1</td>\n",
       "      <td>0.0</td>\n",
       "      <td>1.0</td>\n",
       "      <td>1.0</td>\n",
       "      <td>0.0</td>\n",
       "      <td>0.0</td>\n",
       "      <td>0.0</td>\n",
       "      <td>0.0</td>\n",
       "      <td>0.0</td>\n",
       "      <td>1.0</td>\n",
       "    </tr>\n",
       "    <tr>\n",
       "      <th>4</th>\n",
       "      <td>0</td>\n",
       "      <td>0</td>\n",
       "      <td>0</td>\n",
       "      <td>0.097649</td>\n",
       "      <td>-0.554036</td>\n",
       "      <td>-6.440178e-02</td>\n",
       "      <td>0.279623</td>\n",
       "      <td>1</td>\n",
       "      <td>1</td>\n",
       "      <td>0.0</td>\n",
       "      <td>1.0</td>\n",
       "      <td>1.0</td>\n",
       "      <td>0.0</td>\n",
       "      <td>0.0</td>\n",
       "      <td>0.0</td>\n",
       "      <td>0.0</td>\n",
       "      <td>0.0</td>\n",
       "      <td>1.0</td>\n",
       "    </tr>\n",
       "    <tr>\n",
       "      <th>...</th>\n",
       "      <td>...</td>\n",
       "      <td>...</td>\n",
       "      <td>...</td>\n",
       "      <td>...</td>\n",
       "      <td>...</td>\n",
       "      <td>...</td>\n",
       "      <td>...</td>\n",
       "      <td>...</td>\n",
       "      <td>...</td>\n",
       "      <td>...</td>\n",
       "      <td>...</td>\n",
       "      <td>...</td>\n",
       "      <td>...</td>\n",
       "      <td>...</td>\n",
       "      <td>...</td>\n",
       "      <td>...</td>\n",
       "      <td>...</td>\n",
       "      <td>...</td>\n",
       "    </tr>\n",
       "    <tr>\n",
       "      <th>609</th>\n",
       "      <td>0</td>\n",
       "      <td>0</td>\n",
       "      <td>0</td>\n",
       "      <td>-0.409796</td>\n",
       "      <td>-0.554036</td>\n",
       "      <td>-8.973636e-01</td>\n",
       "      <td>0.279623</td>\n",
       "      <td>1</td>\n",
       "      <td>1</td>\n",
       "      <td>1.0</td>\n",
       "      <td>0.0</td>\n",
       "      <td>1.0</td>\n",
       "      <td>0.0</td>\n",
       "      <td>0.0</td>\n",
       "      <td>0.0</td>\n",
       "      <td>1.0</td>\n",
       "      <td>0.0</td>\n",
       "      <td>0.0</td>\n",
       "    </tr>\n",
       "    <tr>\n",
       "      <th>610</th>\n",
       "      <td>1</td>\n",
       "      <td>0</td>\n",
       "      <td>0</td>\n",
       "      <td>-0.212383</td>\n",
       "      <td>-0.554036</td>\n",
       "      <td>-1.266247e+00</td>\n",
       "      <td>-2.516603</td>\n",
       "      <td>1</td>\n",
       "      <td>1</td>\n",
       "      <td>0.0</td>\n",
       "      <td>1.0</td>\n",
       "      <td>0.0</td>\n",
       "      <td>0.0</td>\n",
       "      <td>0.0</td>\n",
       "      <td>1.0</td>\n",
       "      <td>1.0</td>\n",
       "      <td>0.0</td>\n",
       "      <td>0.0</td>\n",
       "    </tr>\n",
       "    <tr>\n",
       "      <th>611</th>\n",
       "      <td>1</td>\n",
       "      <td>0</td>\n",
       "      <td>0</td>\n",
       "      <td>0.436818</td>\n",
       "      <td>-0.472019</td>\n",
       "      <td>1.268337e+00</td>\n",
       "      <td>0.279623</td>\n",
       "      <td>1</td>\n",
       "      <td>1</td>\n",
       "      <td>0.0</td>\n",
       "      <td>1.0</td>\n",
       "      <td>0.0</td>\n",
       "      <td>1.0</td>\n",
       "      <td>0.0</td>\n",
       "      <td>0.0</td>\n",
       "      <td>0.0</td>\n",
       "      <td>0.0</td>\n",
       "      <td>1.0</td>\n",
       "    </tr>\n",
       "    <tr>\n",
       "      <th>612</th>\n",
       "      <td>1</td>\n",
       "      <td>0</td>\n",
       "      <td>0</td>\n",
       "      <td>0.356773</td>\n",
       "      <td>-0.554036</td>\n",
       "      <td>4.829731e-01</td>\n",
       "      <td>0.279623</td>\n",
       "      <td>1</td>\n",
       "      <td>1</td>\n",
       "      <td>0.0</td>\n",
       "      <td>1.0</td>\n",
       "      <td>0.0</td>\n",
       "      <td>0.0</td>\n",
       "      <td>1.0</td>\n",
       "      <td>0.0</td>\n",
       "      <td>0.0</td>\n",
       "      <td>0.0</td>\n",
       "      <td>1.0</td>\n",
       "    </tr>\n",
       "    <tr>\n",
       "      <th>613</th>\n",
       "      <td>0</td>\n",
       "      <td>0</td>\n",
       "      <td>1</td>\n",
       "      <td>-0.134302</td>\n",
       "      <td>-0.554036</td>\n",
       "      <td>-1.595974e-01</td>\n",
       "      <td>0.279623</td>\n",
       "      <td>0</td>\n",
       "      <td>0</td>\n",
       "      <td>1.0</td>\n",
       "      <td>0.0</td>\n",
       "      <td>1.0</td>\n",
       "      <td>0.0</td>\n",
       "      <td>0.0</td>\n",
       "      <td>0.0</td>\n",
       "      <td>0.0</td>\n",
       "      <td>1.0</td>\n",
       "      <td>0.0</td>\n",
       "    </tr>\n",
       "  </tbody>\n",
       "</table>\n",
       "<p>614 rows × 18 columns</p>\n",
       "</div>"
      ],
      "text/plain": [
       "     Married  Education  Self_Employed  ApplicantIncome  CoapplicantIncome  \\\n",
       "0          0          0              0         0.072931          -0.554036   \n",
       "1          1          0              0        -0.134302          -0.038700   \n",
       "2          1          0              1        -0.393427          -0.554036   \n",
       "3          1          1              0        -0.461686           0.251774   \n",
       "4          0          0              0         0.097649          -0.554036   \n",
       "..       ...        ...            ...              ...                ...   \n",
       "609        0          0              0        -0.409796          -0.554036   \n",
       "610        1          0              0        -0.212383          -0.554036   \n",
       "611        1          0              0         0.436818          -0.472019   \n",
       "612        1          0              0         0.356773          -0.554036   \n",
       "613        0          0              1        -0.134302          -0.554036   \n",
       "\n",
       "       LoanAmount  Loan_Amount_Term  Credit_History  Loan_Status  \\\n",
       "0    3.382028e-16          0.279623               1            1   \n",
       "1   -2.190947e-01          0.279623               1            0   \n",
       "2   -9.568608e-01          0.279623               1            1   \n",
       "3   -3.142903e-01          0.279623               1            1   \n",
       "4   -6.440178e-02          0.279623               1            1   \n",
       "..            ...               ...             ...          ...   \n",
       "609 -8.973636e-01          0.279623               1            1   \n",
       "610 -1.266247e+00         -2.516603               1            1   \n",
       "611  1.268337e+00          0.279623               1            1   \n",
       "612  4.829731e-01          0.279623               1            1   \n",
       "613 -1.595974e-01          0.279623               0            0   \n",
       "\n",
       "     Gender_Female  Gender_Male  Dependents_0  Dependents_1  Dependents_2  \\\n",
       "0              0.0          1.0           1.0           0.0           0.0   \n",
       "1              0.0          1.0           0.0           1.0           0.0   \n",
       "2              0.0          1.0           1.0           0.0           0.0   \n",
       "3              0.0          1.0           1.0           0.0           0.0   \n",
       "4              0.0          1.0           1.0           0.0           0.0   \n",
       "..             ...          ...           ...           ...           ...   \n",
       "609            1.0          0.0           1.0           0.0           0.0   \n",
       "610            0.0          1.0           0.0           0.0           0.0   \n",
       "611            0.0          1.0           0.0           1.0           0.0   \n",
       "612            0.0          1.0           0.0           0.0           1.0   \n",
       "613            1.0          0.0           1.0           0.0           0.0   \n",
       "\n",
       "     Dependents_3+  Property_Area_Rural  Property_Area_Semiurban  \\\n",
       "0              0.0                  0.0                      0.0   \n",
       "1              0.0                  1.0                      0.0   \n",
       "2              0.0                  0.0                      0.0   \n",
       "3              0.0                  0.0                      0.0   \n",
       "4              0.0                  0.0                      0.0   \n",
       "..             ...                  ...                      ...   \n",
       "609            0.0                  1.0                      0.0   \n",
       "610            1.0                  1.0                      0.0   \n",
       "611            0.0                  0.0                      0.0   \n",
       "612            0.0                  0.0                      0.0   \n",
       "613            0.0                  0.0                      1.0   \n",
       "\n",
       "     Property_Area_Urban  \n",
       "0                    1.0  \n",
       "1                    0.0  \n",
       "2                    1.0  \n",
       "3                    1.0  \n",
       "4                    1.0  \n",
       "..                   ...  \n",
       "609                  0.0  \n",
       "610                  0.0  \n",
       "611                  1.0  \n",
       "612                  1.0  \n",
       "613                  0.0  \n",
       "\n",
       "[614 rows x 18 columns]"
      ]
     },
     "execution_count": 31,
     "metadata": {},
     "output_type": "execute_result"
    }
   ],
   "source": [
    "train_data"
   ]
  },
  {
   "cell_type": "code",
   "execution_count": 32,
   "metadata": {},
   "outputs": [
    {
     "data": {
      "text/plain": [
       "Married                    0\n",
       "Education                  0\n",
       "Self_Employed              0\n",
       "ApplicantIncome            0\n",
       "CoapplicantIncome          0\n",
       "LoanAmount                 0\n",
       "Loan_Amount_Term           0\n",
       "Credit_History             0\n",
       "Loan_Status                0\n",
       "Gender_Female              0\n",
       "Gender_Male                0\n",
       "Dependents_0               0\n",
       "Dependents_1               0\n",
       "Dependents_2               0\n",
       "Dependents_3+              0\n",
       "Property_Area_Rural        0\n",
       "Property_Area_Semiurban    0\n",
       "Property_Area_Urban        0\n",
       "dtype: int64"
      ]
     },
     "execution_count": 32,
     "metadata": {},
     "output_type": "execute_result"
    }
   ],
   "source": [
    "train_data.isna().sum()"
   ]
  },
  {
   "cell_type": "code",
   "execution_count": 33,
   "metadata": {},
   "outputs": [
    {
     "data": {
      "text/plain": [
       "Married                      int32\n",
       "Education                    int32\n",
       "Self_Employed                int32\n",
       "ApplicantIncome            float64\n",
       "CoapplicantIncome          float64\n",
       "LoanAmount                 float64\n",
       "Loan_Amount_Term           float64\n",
       "Credit_History               int64\n",
       "Loan_Status                  int32\n",
       "Gender_Female              float64\n",
       "Gender_Male                float64\n",
       "Dependents_0               float64\n",
       "Dependents_1               float64\n",
       "Dependents_2               float64\n",
       "Dependents_3+              float64\n",
       "Property_Area_Rural        float64\n",
       "Property_Area_Semiurban    float64\n",
       "Property_Area_Urban        float64\n",
       "dtype: object"
      ]
     },
     "execution_count": 33,
     "metadata": {},
     "output_type": "execute_result"
    }
   ],
   "source": [
    "train_data.dtypes"
   ]
  },
  {
   "cell_type": "markdown",
   "metadata": {},
   "source": [
    "# Create, Train and Test dataset"
   ]
  },
  {
   "cell_type": "markdown",
   "metadata": {},
   "source": [
    "## Linear Regression Model\n",
    "\n",
    "Pridict the Loan Amount"
   ]
  },
  {
   "cell_type": "code",
   "execution_count": 34,
   "metadata": {},
   "outputs": [
    {
     "name": "stdout",
     "output_type": "stream",
     "text": [
      "length of the total data is  614\n",
      "length of the train data is  429\n",
      "length of the test data is is  185\n"
     ]
    }
   ],
   "source": [
    "# Split the predict feature from the dataset\n",
    "features = train_data.loc[:, train_data.columns != \"LoanAmount\"]\n",
    "target_feature = train_data[\"LoanAmount\"]\n",
    "\n",
    "x_train, x_test, y_train, y_test = train_test_split(features, target_feature, test_size=0.3, train_size=0.7, random_state=100)\n",
    "\n",
    "\n",
    "print(\"length of the total data is \",len(features))\n",
    "print(\"length of the train data is \",len(x_train))\n",
    "print(\"length of the test data is is \",len(x_test))"
   ]
  },
  {
   "cell_type": "code",
   "execution_count": 35,
   "metadata": {},
   "outputs": [
    {
     "data": {
      "text/plain": [
       "LinearRegression()"
      ]
     },
     "execution_count": 35,
     "metadata": {},
     "output_type": "execute_result"
    }
   ],
   "source": [
    "# Create Linear Regression model object\n",
    "reg = linear_model.LinearRegression()\n",
    "\n",
    "# Train the model by the training set\n",
    "reg.fit(x_train, y_train)"
   ]
  },
  {
   "cell_type": "code",
   "execution_count": 36,
   "metadata": {},
   "outputs": [
    {
     "data": {
      "text/plain": [
       "array([ 0.10604457, -0.19954319,  0.18557367,  0.47702647,  0.37058964,\n",
       "        0.10784052,  0.274975  , -0.21795588, -0.03700338,  0.03700338,\n",
       "       -0.08011542, -0.00982494, -0.01290645,  0.1028468 ,  0.03823428,\n",
       "        0.0116896 , -0.04992388])"
      ]
     },
     "execution_count": 36,
     "metadata": {},
     "output_type": "execute_result"
    }
   ],
   "source": [
    "# Print the coefficient for each feature\n",
    "reg.coef_"
   ]
  },
  {
   "cell_type": "code",
   "execution_count": 37,
   "metadata": {},
   "outputs": [
    {
     "data": {
      "text/plain": [
       "-0.10963401641750009"
      ]
     },
     "execution_count": 37,
     "metadata": {},
     "output_type": "execute_result"
    }
   ],
   "source": [
    "# Show the intercept of the model, its a constraint number (w0)\n",
    "reg.intercept_"
   ]
  },
  {
   "cell_type": "code",
   "execution_count": 38,
   "metadata": {},
   "outputs": [
    {
     "name": "stdout",
     "output_type": "stream",
     "text": [
      "Mean squared error (MSE): 0.58\n",
      "Coefficient of determination (R^2): 0.36\n"
     ]
    }
   ],
   "source": [
    "# Apply trained model to predict target from the training set\n",
    "\n",
    "target_predict_train = reg.predict(x_train)\n",
    "\n",
    "print('Mean squared error (MSE): %.2f'\n",
    "      % mean_squared_error(y_train, target_predict_train))\n",
    "print('Coefficient of determination (R^2): %.2f'\n",
    "      % r2_score(y_train, target_predict_train))"
   ]
  },
  {
   "cell_type": "code",
   "execution_count": 39,
   "metadata": {},
   "outputs": [
    {
     "name": "stdout",
     "output_type": "stream",
     "text": [
      "Mean squared error (MSE): 0.69\n",
      "Coefficient of determination (R^2): 0.43\n"
     ]
    }
   ],
   "source": [
    "# Apply trained model to predict target from the test set\n",
    "\n",
    "target_predict = reg.predict(x_test)\n",
    "\n",
    "print('Mean squared error (MSE): %.2f'\n",
    "      % mean_squared_error(y_test, target_predict))\n",
    "print('Coefficient of determination (R^2): %.2f'\n",
    "      % r2_score(y_test, target_predict))"
   ]
  },
  {
   "cell_type": "code",
   "execution_count": 47,
   "metadata": {},
   "outputs": [
    {
     "data": {
      "image/png": "[encoded data removed]",
      "text/plain": [
       "<Figure size 720x360 with 2 Axes>"
      ]
     },
     "metadata": {
      "needs_background": "light"
     },
     "output_type": "display_data"
    }
   ],
   "source": [
    "# Scatter Plot of experimental vs. predicted target\n",
    "plt.figure(figsize=(10,5))\n",
    "plt.subplot(1, 2, 1)\n",
    "\n",
    "# 1 row, 2 column, plot 1\n",
    "plt.scatter(x=y_train, y=target_predict_train, label=\"Sample Data\")\n",
    "\n",
    "# Add trendline\n",
    "z = np.polyfit(y_train, target_predict_train, 1)\n",
    "p = np.poly1d(z)\n",
    "plt.plot(y_test,p(y_test),\"black\", label=\"Linear Regreesion Model\")\n",
    "\n",
    "plt.ylabel('Target Value')\n",
    "plt.xlabel('Train Data')\n",
    "plt.legend()\n",
    "\n",
    "# 1 row, 2 column, plot 2\n",
    "plt.subplot(1, 2, 2)\n",
    "plt.scatter(x=y_test, y=target_predict, c=\"#619CFF\", label=\"Sample Data\")\n",
    "\n",
    "z = np.polyfit(y_test, target_predict, 1)\n",
    "p = np.poly1d(z)\n",
    "plt.plot(y_test,p(y_test),\"red\", label=\"Linear Regreesion Model\")\n",
    "\n",
    "plt.ylabel('Target Value')\n",
    "plt.xlabel('Test Data')\n",
    "plt.legend()\n",
    "plt.show()"
   ]
  },
  {
   "cell_type": "markdown",
   "metadata": {},
   "source": [
    "## Logistic Regression\n",
    "\n",
    "Pridict the ApplicantI ncome based on Self_Employed"
   ]
  },
  {
   "cell_type": "code",
   "execution_count": 91,
   "metadata": {},
   "outputs": [
    {
     "name": "stdout",
     "output_type": "stream",
     "text": [
      "length of the total data is  614\n",
      "length of the train data is  460\n",
      "length of the test data is is  154\n"
     ]
    }
   ],
   "source": [
    "Logistic_Features = train_data.loc[:, train_data.columns != \"Self_Employed\"]\n",
    "Logistic_Target = train_data[\"Self_Employed\"]\n",
    "\n",
    "Logistic_x_train, Logistic_x_test, Logistic_y_train, Logistic_y_test = train_test_split(Logistic_Features, Logistic_Target, random_state=100)\n",
    "\n",
    "\n",
    "print(\"length of the total data is \",len(Logistic_Features))\n",
    "print(\"length of the train data is \",len(Logistic_x_train))\n",
    "print(\"length of the test data is is \",len(Logistic_x_test))"
   ]
  },
  {
   "cell_type": "code",
   "execution_count": 92,
   "metadata": {},
   "outputs": [],
   "source": [
    "Logistic_Model = linear_model.LogisticRegression(random_state=0)"
   ]
  },
  {
   "cell_type": "code",
   "execution_count": 93,
   "metadata": {},
   "outputs": [
    {
     "data": {
      "text/plain": [
       "LogisticRegression(random_state=0)"
      ]
     },
     "execution_count": 93,
     "metadata": {},
     "output_type": "execute_result"
    }
   ],
   "source": [
    "Logistic_Model.fit(Logistic_x_train, Logistic_y_train)"
   ]
  },
  {
   "cell_type": "code",
   "execution_count": 94,
   "metadata": {},
   "outputs": [
    {
     "data": {
      "text/plain": [
       "array([0, 1])"
      ]
     },
     "execution_count": 94,
     "metadata": {},
     "output_type": "execute_result"
    }
   ],
   "source": [
    "Logistic_Model.classes_"
   ]
  },
  {
   "cell_type": "code",
   "execution_count": 95,
   "metadata": {},
   "outputs": [
    {
     "data": {
      "text/plain": [
       "array([-1.75452795])"
      ]
     },
     "execution_count": 95,
     "metadata": {},
     "output_type": "execute_result"
    }
   ],
   "source": [
    "Logistic_Model.intercept_"
   ]
  },
  {
   "cell_type": "code",
   "execution_count": 96,
   "metadata": {},
   "outputs": [
    {
     "data": {
      "text/plain": [
       "array([[-0.30886933,  0.2212313 ,  0.12465602,  0.12717541,  0.23503127,\n",
       "        -0.01171191,  0.4170727 , -0.09855395,  0.02279203, -0.02280065,\n",
       "        -0.53474522,  0.27699821,  0.1713987 ,  0.08633969,  0.14000391,\n",
       "        -0.06537182, -0.07464071]])"
      ]
     },
     "execution_count": 96,
     "metadata": {},
     "output_type": "execute_result"
    }
   ],
   "source": [
    "Logistic_Model.coef_"
   ]
  },
  {
   "cell_type": "code",
   "execution_count": 98,
   "metadata": {},
   "outputs": [
    {
     "data": {
      "text/plain": [
       "array([[0.6796888 , 0.3203112 ],\n",
       "       [0.71366441, 0.28633559],\n",
       "       [0.83595457, 0.16404543],\n",
       "       [0.85709231, 0.14290769],\n",
       "       [0.71647357, 0.28352643],\n",
       "       [0.81254144, 0.18745856],\n",
       "       [0.77673661, 0.22326339],\n",
       "       [0.86231364, 0.13768636],\n",
       "       [0.92949879, 0.07050121],\n",
       "       [0.89740371, 0.10259629],\n",
       "       [0.90197245, 0.09802755],\n",
       "       [0.86540122, 0.13459878],\n",
       "       [0.81691559, 0.18308441],\n",
       "       [0.91515304, 0.08484696],\n",
       "       [0.81057353, 0.18942647],\n",
       "       [0.77648139, 0.22351861],\n",
       "       [0.79695741, 0.20304259],\n",
       "       [0.87129534, 0.12870466],\n",
       "       [0.91647599, 0.08352401],\n",
       "       [0.92010874, 0.07989126],\n",
       "       [0.91964473, 0.08035527],\n",
       "       [0.79195151, 0.20804849],\n",
       "       [0.91082991, 0.08917009],\n",
       "       [0.91684144, 0.08315856],\n",
       "       [0.85977141, 0.14022859],\n",
       "       [0.93117111, 0.06882889],\n",
       "       [0.90069691, 0.09930309],\n",
       "       [0.85729387, 0.14270613],\n",
       "       [0.85471579, 0.14528421],\n",
       "       [0.91510929, 0.08489071],\n",
       "       [0.90578458, 0.09421542],\n",
       "       [0.90897845, 0.09102155],\n",
       "       [0.92919941, 0.07080059],\n",
       "       [0.76121843, 0.23878157],\n",
       "       [0.86770999, 0.13229001],\n",
       "       [0.82264752, 0.17735248],\n",
       "       [0.92108813, 0.07891187],\n",
       "       [0.77531581, 0.22468419],\n",
       "       [0.81978344, 0.18021656],\n",
       "       [0.80863677, 0.19136323],\n",
       "       [0.8684592 , 0.1315408 ],\n",
       "       [0.77563101, 0.22436899],\n",
       "       [0.93728446, 0.06271554],\n",
       "       [0.80868913, 0.19131087],\n",
       "       [0.86560641, 0.13439359],\n",
       "       [0.61582948, 0.38417052],\n",
       "       [0.9003418 , 0.0996582 ],\n",
       "       [0.87369197, 0.12630803],\n",
       "       [0.90897195, 0.09102805],\n",
       "       [0.87201599, 0.12798401],\n",
       "       [0.81572655, 0.18427345],\n",
       "       [0.92657516, 0.07342484],\n",
       "       [0.89584827, 0.10415173],\n",
       "       [0.89956437, 0.10043563],\n",
       "       [0.93073442, 0.06926558],\n",
       "       [0.89744002, 0.10255998],\n",
       "       [0.82661083, 0.17338917],\n",
       "       [0.91462813, 0.08537187],\n",
       "       [0.90817313, 0.09182687],\n",
       "       [0.85824413, 0.14175587],\n",
       "       [0.80210436, 0.19789564],\n",
       "       [0.92247305, 0.07752695],\n",
       "       [0.82823879, 0.17176121],\n",
       "       [0.87666265, 0.12333735],\n",
       "       [0.94142579, 0.05857421],\n",
       "       [0.85998127, 0.14001873],\n",
       "       [0.80173761, 0.19826239],\n",
       "       [0.93921827, 0.06078173],\n",
       "       [0.86328342, 0.13671658],\n",
       "       [0.87705005, 0.12294995],\n",
       "       [0.79499856, 0.20500144],\n",
       "       [0.87078211, 0.12921789],\n",
       "       [0.8650242 , 0.1349758 ],\n",
       "       [0.79465592, 0.20534408],\n",
       "       [0.83827614, 0.16172386],\n",
       "       [0.91241831, 0.08758169],\n",
       "       [0.84974745, 0.15025255],\n",
       "       [0.76995313, 0.23004687],\n",
       "       [0.58326987, 0.41673013],\n",
       "       [0.87653491, 0.12346509],\n",
       "       [0.87957398, 0.12042602],\n",
       "       [0.72570126, 0.27429874],\n",
       "       [0.89240767, 0.10759233],\n",
       "       [0.90019541, 0.09980459],\n",
       "       [0.69069655, 0.30930345],\n",
       "       [0.84470658, 0.15529342],\n",
       "       [0.92418617, 0.07581383],\n",
       "       [0.90601444, 0.09398556],\n",
       "       [0.78415551, 0.21584449],\n",
       "       [0.89925744, 0.10074256],\n",
       "       [0.92914312, 0.07085688],\n",
       "       [0.8286357 , 0.1713643 ],\n",
       "       [0.89166869, 0.10833131],\n",
       "       [0.74961542, 0.25038458],\n",
       "       [0.93232284, 0.06767716],\n",
       "       [0.28200848, 0.71799152],\n",
       "       [0.76998034, 0.23001966],\n",
       "       [0.89646728, 0.10353272],\n",
       "       [0.91722977, 0.08277023],\n",
       "       [0.87055852, 0.12944148],\n",
       "       [0.8059955 , 0.1940045 ],\n",
       "       [0.86771167, 0.13228833],\n",
       "       [0.93463309, 0.06536691],\n",
       "       [0.87219045, 0.12780955],\n",
       "       [0.90748455, 0.09251545],\n",
       "       [0.89337622, 0.10662378],\n",
       "       [0.89202805, 0.10797195],\n",
       "       [0.76864912, 0.23135088],\n",
       "       [0.88755396, 0.11244604],\n",
       "       [0.82467391, 0.17532609],\n",
       "       [0.90308787, 0.09691213],\n",
       "       [0.90919167, 0.09080833],\n",
       "       [0.85129791, 0.14870209],\n",
       "       [0.901239  , 0.098761  ],\n",
       "       [0.88809983, 0.11190017],\n",
       "       [0.88868107, 0.11131893],\n",
       "       [0.89922322, 0.10077678],\n",
       "       [0.55731513, 0.44268487],\n",
       "       [0.92611049, 0.07388951],\n",
       "       [0.84069155, 0.15930845],\n",
       "       [0.92095767, 0.07904233],\n",
       "       [0.89391962, 0.10608038],\n",
       "       [0.90676464, 0.09323536],\n",
       "       [0.84440828, 0.15559172],\n",
       "       [0.33728447, 0.66271553],\n",
       "       [0.90326795, 0.09673205],\n",
       "       [0.85668731, 0.14331269],\n",
       "       [0.905382  , 0.094618  ],\n",
       "       [0.84789824, 0.15210176],\n",
       "       [0.75536367, 0.24463633],\n",
       "       [0.90517572, 0.09482428],\n",
       "       [0.85152034, 0.14847966],\n",
       "       [0.90216916, 0.09783084],\n",
       "       [0.88153159, 0.11846841],\n",
       "       [0.93936833, 0.06063167],\n",
       "       [0.69374727, 0.30625273],\n",
       "       [0.92953364, 0.07046636],\n",
       "       [0.83014682, 0.16985318],\n",
       "       [0.85116393, 0.14883607],\n",
       "       [0.83333847, 0.16666153],\n",
       "       [0.73189634, 0.26810366],\n",
       "       [0.90518192, 0.09481808],\n",
       "       [0.92133569, 0.07866431],\n",
       "       [0.9110189 , 0.0889811 ],\n",
       "       [0.89421827, 0.10578173],\n",
       "       [0.9198618 , 0.0801382 ],\n",
       "       [0.93485966, 0.06514034],\n",
       "       [0.80282602, 0.19717398],\n",
       "       [0.90994977, 0.09005023],\n",
       "       [0.80186703, 0.19813297],\n",
       "       [0.86018414, 0.13981586],\n",
       "       [0.92687558, 0.07312442],\n",
       "       [0.86416413, 0.13583587],\n",
       "       [0.90011359, 0.09988641]])"
      ]
     },
     "execution_count": 98,
     "metadata": {},
     "output_type": "execute_result"
    }
   ],
   "source": [
    "# check the model performance\n",
    "# returns the matrix of probabilities that the predicted output is equal to zero or one\n",
    "Logistic_Model.predict_proba(Logistic_x_test)"
   ]
  },
  {
   "cell_type": "code",
   "execution_count": 143,
   "metadata": {},
   "outputs": [],
   "source": [
    "Logistic_Predict_target = Logistic_Model.predict(Logistic_x_test)"
   ]
  },
  {
   "cell_type": "code",
   "execution_count": 144,
   "metadata": {},
   "outputs": [
    {
     "data": {
      "text/plain": [
       "0.8543478260869565"
      ]
     },
     "execution_count": 144,
     "metadata": {},
     "output_type": "execute_result"
    }
   ],
   "source": [
    "# Evaluate the model\n",
    "Logistic_Model.score(Logistic_x_train, Logistic_y_train)"
   ]
  },
  {
   "cell_type": "code",
   "execution_count": 145,
   "metadata": {},
   "outputs": [
    {
     "data": {
      "text/plain": [
       "0.8831168831168831"
      ]
     },
     "execution_count": 145,
     "metadata": {},
     "output_type": "execute_result"
    }
   ],
   "source": [
    "Logistic_Model.score(Logistic_x_test, Logistic_y_test)"
   ]
  },
  {
   "cell_type": "code",
   "execution_count": 153,
   "metadata": {},
   "outputs": [],
   "source": [
    "Logistic_Confusion_Matrix = confusion_matrix(Logistic_y_test, Logistic_Predict_target)"
   ]
  },
  {
   "cell_type": "code",
   "execution_count": 167,
   "metadata": {},
   "outputs": [
    {
     "data": {
      "image/png": "[encoded data removed]",
      "text/plain": [
       "<Figure size 432x288 with 2 Axes>"
      ]
     },
     "metadata": {
      "needs_background": "light"
     },
     "output_type": "display_data"
    }
   ],
   "source": [
    "ax = sns.heatmap(Logistic_Confusion_Matrix, annot=True, fmt='d')\n",
    "\n",
    "ax.set_title('Confusion Matrix for predicition')\n",
    "ax.set_xlabel('Predicted')\n",
    "ax.set_ylabel('Actual status')\n",
    "\n",
    "## Ticket labels – List must be in alphabetical order\n",
    "ax.xaxis.set_ticklabels(['0','1'])\n",
    "ax.yaxis.set_ticklabels(['0','1'])\n",
    "\n",
    "## Display the visualization of the Confusion Matrix.\n",
    "plt.show()"
   ]
  }
 ],
 "metadata": {
  "interpreter": {
   "hash": "5ae58900cfbb8c43ab3495913814b7cf26024f51651a94ce8bf64d6111688e8d"
  },
  "kernelspec": {
   "display_name": "Python 3.8.3 ('base')",
   "language": "python",
   "name": "python3"
  },
  "language_info": {
   "codemirror_mode": {
    "name": "ipython",
    "version": 3
   },
   "file_extension": ".py",
   "mimetype": "text/x-python",
   "name": "python",
   "nbconvert_exporter": "python",
   "pygments_lexer": "ipython3",
   "version": "3.8.3"
  },
  "orig_nbformat": 4
 },
 "nbformat": 4,
 "nbformat_minor": 2
}
